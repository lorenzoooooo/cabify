{
 "cells": [
  {
   "cell_type": "markdown",
   "metadata": {},
   "source": [
    "Challenge 1\n",
    "\n",
    "Success measure criterion --> Impact of service to increase restaurant's customers\n",
    "\n",
    "Impact measure criterion:\n",
    "    1. Compare sales before vs after picture posted\n",
    "    3. Compare quality of home made pictures with pro pictures -- The gap has decreased due to improvements and availability of technology and free tutorials\n",
    "    4. Since COVID more people order online --> Easier to sell food and then less need of high quality presentation? Or in the oder way higher standards?\n",
    "    5. Evolution of maintenance cost for photografy service\n",
    "\n",
    "Implementation:\n",
    "    Global:\n",
    "        For each year from 2001 to 2023: Number of subs to the service / Number of subscription to just eat --> Regression for the next X years\n",
    "        Evolution of the overall deployment and maintenance cost of the service --> regression for the next X years\n",
    "    Sample of restaurants divided by geographical criterion (maybe target, type of food):\n",
    "        Ratings (stars) of the service   \n",
    "        Percentage of sell increase with respect to before\n",
    "    Sample of customers divided by geographical criterion, target, type of food:\n",
    "        Percentage of orders coming from restaurant using photo service\n",
    "        Importance of picture criterion with respect to cost, qaulity and service criterion\n",
    "\n",
    "Avoid Bias by:\n",
    "    Create balanced dataset -- Balance by geographical areas, by price range\n",
    "    Normalization\n",
    "    K-Folding??\n",
    "\n",
    "    "
   ]
  },
  {
   "cell_type": "code",
   "execution_count": null,
   "metadata": {},
   "outputs": [],
   "source": []
  }
 ],
 "metadata": {
  "kernelspec": {
   "display_name": "Python 3",
   "language": "python",
   "name": "python3"
  },
  "language_info": {
   "name": "python",
   "version": "3.8.10"
  },
  "orig_nbformat": 4
 },
 "nbformat": 4,
 "nbformat_minor": 2
}
