{
 "cells": [
  {
   "cell_type": "markdown",
   "metadata": {},
   "source": [
    "Challenge 1\n",
    "\n",
    "Success measure criterion --> Impact of service to increase restaurant's customers\n",
    "\n",
    "Impact measure criterion:\n",
    "    1. Compare sales before vs after picture posted\n",
    "    3. Compare quality of home made pictures with pro pictures -- The gap has decreased due to improvements and availability of technology and free tutorials\n",
    "    4. Since COVID more people order online --> Easier to sell food and then less need of high quality presentation? Or in the oder way higher standards?\n",
    "    5. Evolution of maintenance cost for photografy service\n",
    "\n",
    "Implementation:\n",
    "    Global:\n",
    "        For each year from 2001 to 2023: Number of subs to the service / Number of subscription to just eat --> Regression for the next X years\n",
    "        Evolution of the overall deployment and maintenance cost of the service --> regression for the next X years\n",
    "    Sample of restaurants divided by geographical criterion (maybe target, type of food):\n",
    "        Ratings (stars) of the service   \n",
    "        Percentage of sell increase with respect to before\n",
    "    Sample of customers divided by geographical criterion, target, type of food:\n",
    "        Percentage of orders coming from restaurant using photo service\n",
    "        Importance of picture criterion with respect to cost, qaulity and service criterion\n",
    "\n",
    "Avoid Bias by:\n",
    "    Create balanced dataset -- Balance by geographical areas, by price range\n",
    "    Normalization\n",
    "    K-Folding??\n",
    "\n",
    "    "
   ]
  },
  {
   "cell_type": "markdown",
   "metadata": {},
   "source": [
    "Punto 2: Semplice RNN con dataset etichettato.\n",
    "\n",
    "Etichettatura multipla --> Softmax come attivazione finale\n",
    "\n",
    "0: “Both are the same”\n",
    "1: “They differ”\n",
    "2: “I don’t know”\n",
    "\n",
    "Come gestire il fatto che lo stesso percorso possa essere etichettato in maniera differente da 2 o + persone? Devo trovare un criterio per scegliere quale etichetta tenere. (Qual'è l'etichetta con la percentuale maggiore sullo stesso percorso?)\n",
    "\n",
    "Attenzione real e estimated routes no hanno per forza la stessa lunghezza"
   ]
  },
  {
   "cell_type": "code",
   "execution_count": 16,
   "metadata": {},
   "outputs": [],
   "source": [
    "# from google.colab import drive\n",
    "# drive.mount('/content/drive', force_remount=True)\n",
    "# %cd /content/drive/My\\ Drive/cabify\n",
    "# # with open(\"github_token.txt\", \"r\") as f:\n",
    "# #   token = f.read()\n",
    "# #  ! git clone https://{token}@github.com/lorenzoooooo/cabify\n",
    "# %cd cabify\n",
    "# ! git pull"
   ]
  },
  {
   "cell_type": "code",
   "execution_count": 17,
   "metadata": {},
   "outputs": [],
   "source": [
    "import pandas as pd\n",
    "import matplotlib.pyplot as plt\n",
    "import torch\n",
    "import torch.nn as nn\n",
    "import torch.nn.functional as F\n",
    "import torchvision\n",
    "import torchvision.transforms as transforms\n",
    "import os\n",
    "import shutil\n",
    "import random\n",
    "import numpy as np"
   ]
  },
  {
   "cell_type": "code",
   "execution_count": 18,
   "metadata": {},
   "outputs": [],
   "source": [
    "# #Load json to dataframe\n",
    "# df = pd.read_json('challenge_dataset.json')\n",
    "# print(f\"df size:  {df.size}\")\n",
    "\n",
    "# #Print a sample of real and estimated route\n",
    "# i=df.iloc[3]\n",
    "# df_estimated = pd.DataFrame(i['estimated_route'], columns=['Lat','Long'])\n",
    "# # print(df_estimated.size)\n",
    "# df_real = pd.DataFrame(i['real_route'], columns=['Lat','Long'])\n",
    "# # print(df_real.size)\n",
    "# plt.plot(df_estimated['Lat'], df_estimated['Long'], color='b')\n",
    "# plt.plot(df_real['Lat'], df_real['Long'], color='r')\n",
    "# # plt.scatter(df_estimated['Lat'], df_estimated['Long'], color='b')\n",
    "# # plt.scatter(df_real['Lat'], df_real['Long'], color='r')\n",
    "# plt.title('Annotator: ' + str(i['annotator'])+'\\n'+'Annotation: '+str(i['annotation']))\n",
    "# plt.legend(['Estimated route','Real route'])"
   ]
  },
  {
   "cell_type": "markdown",
   "metadata": {},
   "source": [
    "reflexions:\n",
    "    1. Dataset samples have different sizes -- Input size is variable --> how to declare NN?\n",
    "    2. Are points related temporally o spatially? RNN need equal temporal dependencies between samples. Otherwise can use Graph neural network.\n",
    "\n",
    "Approccio con feed forward:\n",
    "Layer iniziale deve avere dimensione ingresso -- Basic MLP are not fit to take variable input size, either introduce padding or cut to fized size\n",
    "\n",
    "GNN/GCN approach: Can take variable graph sizes as input\n",
    "\n",
    "The point is that I don't have single graph with label, but couple of graphs. I don't want to learn how to recognize the \"ight\" graph, I want to recognize if the graph differs\n"
   ]
  },
  {
   "cell_type": "markdown",
   "metadata": {},
   "source": [
    "Feed forward attempt"
   ]
  },
  {
   "cell_type": "code",
   "execution_count": 19,
   "metadata": {},
   "outputs": [],
   "source": [
    "# input_size=??\n",
    "# number_of_features=2"
   ]
  },
  {
   "cell_type": "code",
   "execution_count": 20,
   "metadata": {},
   "outputs": [],
   "source": [
    "# class Net(nn.Module):\n",
    "\n",
    "#     def __init__(self):\n",
    "#         super(Net, self).__init__()\n",
    "\n",
    "#         # an affine operation: y = Wx + b\n",
    "#         self.fc1 = nn.Linear(input_size, number_of_features )  # 5*5 from image dimension\n",
    "#         self.fc2 = nn.Linear(120, 84)\n",
    "#         self.fc3 = nn.Linear(84, 10)\n",
    "\n",
    "#     def forward(self, input):\n",
    "#         f1 = F.relu(self.fc1(input))\n",
    "#         # Fully connected layer F6: (N, 120) Tensor input,\n",
    "#         # and outputs a (N, 84) Tensor, it uses RELU activation function\n",
    "#         f2 = F.relu(self.fc2(f1))\n",
    "#         # Gaussian layer OUTPUT: (N, 84) Tensor input, and\n",
    "#         # outputs a (N, 10) Tensor\n",
    "#         output = self.fc3(f2)\n",
    "#         return output\n",
    "\n",
    "\n",
    "# net = Net()\n",
    "# print(net)"
   ]
  },
  {
   "cell_type": "markdown",
   "metadata": {},
   "source": [
    "\n",
    "Possible alternative approach: Convolutional network --> Generate images of routes with associated labels and learn to recognize. 5000 images to generate -- Expensive approach"
   ]
  },
  {
   "cell_type": "markdown",
   "metadata": {},
   "source": [
    "Generate fixed size image dataset"
   ]
  },
  {
   "cell_type": "code",
   "execution_count": 21,
   "metadata": {},
   "outputs": [],
   "source": [
    "# #Load dataset\n",
    "# df = pd.read_json('challenge_dataset.json')\n",
    "\n",
    "# # print(f'number of same routes annotations: {df[(df[\"annotation\"]==\"Both are the same\")].shape[0]}')\n",
    "# # print(f'number of different routes annotations: {df[(df[\"annotation\"]==\"They differ\")].shape[0]}')\n",
    "\n",
    "# #List containing final dataset composed of journey_id and annotation\n",
    "# rows_to_keep = []\n",
    "\n",
    "# #Check if same route has multiple rating and if the annotations are different choose the one who is more rated\n",
    "# iter = df['journey_id'].unique()\n",
    "# for i in iter: \n",
    "#     #Select all the rows regarding the same journey_id\n",
    "#     mask=(df['journey_id']==i)\n",
    "    \n",
    "#     #If this journey_id is rated only once append the journey_id and annotation to list\n",
    "#     if (df[mask].shape[0]==1):\n",
    "#         rows_to_keep.append([df[mask]['journey_id'].values[0], df[mask]['annotation'].values[0],\n",
    "#                              df[mask]['estimated_route'].values[0], df[mask]['real_route'].values[0]])\n",
    "    \n",
    "#     #Otherwise choose the more used annotation on this journey_id\n",
    "#     else:\n",
    "#         # Count the number of times an annotation appears\n",
    "#         x=df[mask]\n",
    "#         tmp=[]\n",
    "#         tmp.append(x[(x['annotation']==\"Both are the same\")].shape[0])\n",
    "#         tmp.append(x[(x['annotation']==\"They differ\")].shape[0])\n",
    "#         tmp.append(x[(x['annotation']==\"I don't know\")].shape[0])\n",
    "        \n",
    "#         #Select the annotation with max occurences\n",
    "#         # selected_label=max(tmp)\n",
    "#         idx_selected_label = tmp.index(max(tmp))\n",
    "        \n",
    "#         # Map the index to the corresponding label\n",
    "#         labels = [\"Both are the same\", \"They differ\", \"I don't know\"]\n",
    "#         selected_label_value = labels[idx_selected_label]\n",
    "        \n",
    "#         # Filter rows that match the selected label and append to list\n",
    "#         tmp_list=x[x['annotation'] == selected_label_value].iloc[0]\n",
    "#         rows_to_keep.append([tmp_list.values[0], tmp_list.values[2], \n",
    "#                              tmp_list.values[3], tmp_list.values[4]])\n",
    "\n",
    "# labels_path='labels.csv'\n",
    "# final_df=pd.DataFrame(rows_to_keep, columns=['journey_id', 'annotation', 'estimated_route', 'real_route'])\n",
    "# final_df.to_csv(labels_path, columns=['journey_id', 'annotation'], index=False)"
   ]
  },
  {
   "cell_type": "code",
   "execution_count": 22,
   "metadata": {},
   "outputs": [],
   "source": [
    "# # Create directory to save images\n",
    "# output_dir = 'route_images'\n",
    "# os.makedirs(output_dir, exist_ok=True)\n",
    "\n",
    "# # Turn interactive plotting off to not show every figure\n",
    "# plt.ioff()\n",
    "\n",
    "# #Create database of unique routes images \n",
    "# for _, df_sample in final_df.iterrows():      \n",
    "#     df_estimated = pd.DataFrame(df_sample['estimated_route'], columns=['Lat','Long'])\n",
    "#     df_real = pd.DataFrame(df_sample['real_route'], columns=['Lat','Long'])\n",
    "    \n",
    "#     fig = plt.figure(frameon=False)\n",
    "#     # Set the figure size to be square (for example, 6x6 inches)\n",
    "#     fig.set_size_inches(6, 6)\n",
    "    \n",
    "#     image_path = f'{output_dir}/{df_sample[\"journey_id\"]}.png'\n",
    "#     ax = plt.Axes(fig, [0., 0., 1., 1.])\n",
    "#     ax.set_axis_off()\n",
    "#     fig.add_axes(ax)\n",
    "\n",
    "#     plt.plot(df_estimated['Lat'], df_estimated['Long'], color='c')\n",
    "#     plt.plot(df_real['Lat'], df_real['Long'], color='r')\n",
    "#     # plt.savefig(image_path, dpi=300, bbox_inches='tight') # Dimension = 1920*1440 pixels\n",
    "#     plt.savefig(image_path, dpi=37, bbox_inches='tight')   # Dimension 224*224\n",
    "#     # plt.savefig(image_path, dpi=5, bbox_inches='tight')   # Dimension 32*32\n",
    "#     plt.close() \n",
    "\n",
    "# #Execution time - 6min39s for image Dimension = 1920*1440 pixels\n",
    "# #Execution time - 1min30s for image Dimension = 224*224 pixels\n",
    "# #Execution time - 31s for image Dimension = 32*32 pixels"
   ]
  },
  {
   "cell_type": "markdown",
   "metadata": {},
   "source": [
    "Create dataset splitting in Train, Val and Test - Unbalanced\n",
    "----Run only once, oherwise it adds to the dataset previously created ---"
   ]
  },
  {
   "cell_type": "code",
   "execution_count": 23,
   "metadata": {},
   "outputs": [],
   "source": [
    "# Paths\n",
    "source_dir = 'route_images'\n",
    "dataset_dir='dataset'\n",
    "val_dir = f'{dataset_dir}/Val/'\n",
    "train_dir = f'{dataset_dir}/Train/'\n",
    "test_dir = f'{dataset_dir}/Test/'\n",
    "output_dir = 'labels.csv'\n",
    "# labels_list=['same','different','idk']\n",
    "#For now i don't create the idk class\n",
    "# labels_list=['same','different']\n",
    "labels_list=['different','same']\n",
    "dir_list=[train_dir, test_dir, val_dir]\n",
    "\n",
    "# Do the following only if the dataset has not been already created. To create new just empty the dataset folder\n",
    "if len(os.listdir(dataset_dir)) == 0:\n",
    "    #### Split Dataset equally between Train and Validation #############################################################\n",
    "    for i in dir_list:\n",
    "        if not os.path.exists(i):\n",
    "            os.makedirs(i)\n",
    "        for j in labels_list:\n",
    "            path=f'{i}{j}'\n",
    "            print(path)\n",
    "            if not os.path.exists(path):\n",
    "                os.makedirs(path)\n",
    "\n",
    "    ## Import csv file containing labels and annotation and count the number of total elements\n",
    "    labels = pd.read_csv(output_dir)\n",
    "    num_files = len(labels)\n",
    "    print('Numero di files nella cartella: ', num_files)\n",
    "\n",
    "\n",
    "    # Create mask for each annotation\n",
    "    mask_same = (labels['annotation']=='Both are the same')\n",
    "    print(f'number of same elements: {len(labels[mask_same])}')\n",
    "    mask_different = (labels['annotation']=='They differ')\n",
    "    print(f'number of diff elements: {len(labels[mask_different])}')\n",
    "    mask_idk=(labels['annotation']==\"I don't know\")\n",
    "    print(f'number of idk elements: {len(labels[mask_idk])}')\n",
    "\n",
    "    #Divide between training, validation and test (70%,10%,20%) --- Not using label I don't know\n",
    "    #Create Training set\n",
    "    train_set=[]\n",
    "    x=labels[mask_same]['journey_id'].to_list()\n",
    "    y=labels[mask_different]['journey_id'].to_list()\n",
    "    train_set = random.sample(x, int(0.70*len(x))) + random.sample(y, int(0.70*len(y)))\n",
    "\n",
    "    #Select the remaining data and split it between test (2/3) and validation set (1/3)\n",
    "    # To apply the difference operator I hve to cast the data to set. I cast it back to list for random samples.\n",
    "    remaining_x_set = set(x).difference(train_set)\n",
    "    remaining_y_set = set(y).difference(train_set)\n",
    "    test_set = (random.sample(list(remaining_x_set), int(0.66*len(remaining_x_set))) + \n",
    "                random.sample(list(remaining_y_set), int(0.66*len(remaining_y_set))))\n",
    "    val_set = set(list(remaining_x_set) + list(remaining_y_set)).difference(test_set)\n",
    "\n",
    "    #Copy images in the respective folder\n",
    "    for i in labels.values:\n",
    "        idx=i[1]\n",
    "        files=i[0]\n",
    "    \n",
    "        #Categorize data based on the labels\n",
    "        if idx == 'Both are the same':\n",
    "            folder=labels_list[0]\n",
    "        elif idx == 'They differ':\n",
    "            folder=labels_list[1]\n",
    "        # else:\n",
    "        #     folder=labels_list[2]\n",
    "\n",
    "        #Place data in the correct dataset spit (Train, Test, Validation)    \n",
    "        if files in train_set:\n",
    "            shutil.copy(os.path.join(source_dir, files+'.png'), f'{train_dir}{folder}')\n",
    "        elif files in test_set:\n",
    "            shutil.copy(os.path.join(source_dir, files+'.png'), f'{test_dir}{folder}')\n",
    "        elif files in val_set:\n",
    "            shutil.copy(os.path.join(source_dir, files+'.png'), f'{val_dir}{folder}')\n",
    "        else:\n",
    "            continue"
   ]
  },
  {
   "cell_type": "markdown",
   "metadata": {},
   "source": [
    "size: 32*32"
   ]
  },
  {
   "cell_type": "code",
   "execution_count": 24,
   "metadata": {},
   "outputs": [],
   "source": [
    "# class convNet32(nn.Module):\n",
    "#     def __init__(self):\n",
    "#         super().__init__()\n",
    "#         self.conv1 = nn.Conv2d(3, 6, 5)\n",
    "#         self.pool = nn.MaxPool2d(2, 2)\n",
    "#         self.conv2 = nn.Conv2d(6, 16, 5)\n",
    "\n",
    "#         # self.fc1 = nn.Linear(16 * 5 * 5, 120)  ## From the calculation on papaer it should be input dimension=16*10*10\n",
    "#         self.fc1 = nn.Linear(16 * 10 * 10, 120)  \n",
    "#         self.fc2 = nn.Linear(120, 84)\n",
    "#         self.fc3 = nn.Linear(84, 10)\n",
    "        \n",
    "#     def forward(self, x):\n",
    "#         x = self.pool(F.relu(self.conv1(x)))\n",
    "#         x = self.pool(F.relu(self.conv2(x)))\n",
    "#         x = torch.flatten(x, 1) # flatten all dimensions except batch\n",
    "#         x = F.relu(self.fc1(x))\n",
    "#         x = F.relu(self.fc2(x))\n",
    "#         x = self.fc3(x)\n",
    "#         return x"
   ]
  },
  {
   "cell_type": "markdown",
   "metadata": {},
   "source": [
    "size 224*224"
   ]
  },
  {
   "cell_type": "code",
   "execution_count": 25,
   "metadata": {},
   "outputs": [
    {
     "name": "stdout",
     "output_type": "stream",
     "text": [
      "SimpleCNNconvNet224(\n",
      "  (conv1): Conv2d(3, 64, kernel_size=(3, 3), stride=(1, 1), padding=(1, 1))\n",
      "  (pool): MaxPool2d(kernel_size=2, stride=2, padding=0, dilation=1, ceil_mode=False)\n",
      "  (conv2): Conv2d(64, 128, kernel_size=(3, 3), stride=(1, 1), padding=(1, 1))\n",
      "  (pool2): MaxPool2d(kernel_size=2, stride=2, padding=0, dilation=1, ceil_mode=False)\n",
      "  (conv3): Conv2d(128, 256, kernel_size=(3, 3), stride=(1, 1), padding=(1, 1))\n",
      "  (pool3): MaxPool2d(kernel_size=2, stride=2, padding=0, dilation=1, ceil_mode=False)\n",
      "  (fc1): Linear(in_features=200704, out_features=4096, bias=True)\n",
      "  (fc2): Linear(in_features=4096, out_features=1024, bias=True)\n",
      "  (fc3): Linear(in_features=1024, out_features=10, bias=True)\n",
      ")\n"
     ]
    }
   ],
   "source": [
    "class SimpleCNNconvNet224(nn.Module):\n",
    "    def __init__(self):\n",
    "        super(SimpleCNNconvNet224, self).__init__()\n",
    "        \n",
    "        # First convolution layer\n",
    "        self.conv1 = nn.Conv2d(3, 64, kernel_size=3, stride=1, padding=1)  # Output: 224x224x64\n",
    "        self.pool = nn.MaxPool2d(kernel_size=2, stride=2, padding=0)      # Output: 112x112x64\n",
    "        \n",
    "        # Second convolution layer\n",
    "        self.conv2 = nn.Conv2d(64, 128, kernel_size=3, stride=1, padding=1)  # Output: 112x112x128\n",
    "        self.pool2 = nn.MaxPool2d(kernel_size=2, stride=2, padding=0)       # Output: 56x56x128\n",
    "        \n",
    "        # Third convolution layer\n",
    "        self.conv3 = nn.Conv2d(128, 256, kernel_size=3, stride=1, padding=1) # Output: 56x56x256\n",
    "        self.pool3 = nn.MaxPool2d(kernel_size=2, stride=2, padding=0)       # Output: 28x28x256\n",
    "        \n",
    "        # Fully connected layers\n",
    "        self.fc1 = nn.Linear(256 * 28 * 28, 4096)   # Flattened input to FC layer\n",
    "        self.fc2 = nn.Linear(4096, 1024)             # Second FC layer\n",
    "        self.fc3 = nn.Linear(1024, 10)               # Output layer (10 classes)\n",
    "\n",
    "    def forward(self, x):\n",
    "        # Pass through first convolution and max pool\n",
    "        x = F.relu(self.conv1(x))\n",
    "        x = self.pool(x)\n",
    "\n",
    "        # Pass through second convolution and max pool\n",
    "        x = F.relu(self.conv2(x))\n",
    "        x = self.pool2(x)\n",
    "\n",
    "        # Pass through third convolution and max pool\n",
    "        x = F.relu(self.conv3(x))\n",
    "        x = self.pool3(x)\n",
    "\n",
    "        # Flatten the output for the fully connected layers\n",
    "        x = x.view(-1, 256 * 28 * 28)\n",
    "        # x=torch.flatten(x,1)\n",
    "\n",
    "        # Pass through fully connected layers\n",
    "        x = F.relu(self.fc1(x))\n",
    "        x = F.relu(self.fc2(x))\n",
    "        x = self.fc3(x)\n",
    "        \n",
    "        return x\n",
    "\n",
    "print(SimpleCNNconvNet224())"
   ]
  },
  {
   "cell_type": "markdown",
   "metadata": {},
   "source": [
    "Delcare hyperparameters, choose optimizer, determine if it's possible to use cpu or gpu, and load dataset"
   ]
  },
  {
   "cell_type": "code",
   "execution_count": 26,
   "metadata": {},
   "outputs": [
    {
     "name": "stdout",
     "output_type": "stream",
     "text": [
      "dataset/Train/\n",
      "\n",
      "Batch 1:\n",
      "Images shape:  torch.Size([10, 3, 224, 224])\n",
      "Batch 2:\n",
      "Images shape:  torch.Size([10, 3, 224, 224])\n",
      "Batch 3:\n",
      "Images shape:  torch.Size([10, 3, 224, 224])\n",
      "dataset/Val/\n",
      "\n",
      "Batch 1:\n",
      "Images shape:  torch.Size([10, 3, 224, 224])\n",
      "Batch 2:\n",
      "Images shape:  torch.Size([10, 3, 224, 224])\n",
      "Batch 3:\n",
      "Images shape:  torch.Size([10, 3, 224, 224])\n"
     ]
    }
   ],
   "source": [
    "from torchvision.datasets import ImageFolder\n",
    "from torch.utils.data import DataLoader\n",
    "from torchvision.transforms import Compose, ToTensor, Grayscale, CenterCrop\n",
    "import argparse\n",
    "import torch.nn.functional as F\n",
    "import torch.nn\n",
    "from torch.optim import Adam\n",
    "import torch\n",
    "\n",
    "# Function to transform image\n",
    "def create_datagen(data_dir, batch_size=8):\n",
    "    # transform = Compose([Grayscale(), ToTensor()])    # for bn images\n",
    "    transform = Compose([ToTensor(), CenterCrop([224,224]),\n",
    "                         transforms.Normalize((0.5, 0.5, 0.5), (0.5, 0.5, 0.5))])   # input: [224*224]\n",
    "    dataset = ImageFolder(data_dir, transform=transform)\n",
    "    dataloader = DataLoader(dataset,\n",
    "                            batch_size=batch_size,\n",
    "                            shuffle=True,\n",
    "                            num_workers=4)\n",
    "    return dataloader\n",
    "    \n",
    "def dataset_description(data_loader):\n",
    "    print(data_loader.dataset.root) \n",
    "    print()  # Add an empty line for better readability\n",
    "    for batch_idx, (images, _) in enumerate(data_loader):\n",
    "        print(f\"Batch {batch_idx+1}:\")\n",
    "        print(\"Images shape: \", images.size())  # Prints shape of the batch of images\n",
    "        \n",
    "        # Optionally, you can break after printing a few batches\n",
    "        if batch_idx == 2:\n",
    "            break\n",
    "\n",
    "parameters = {'train_dir': train_dir,\n",
    "                'val_dir': val_dir,\n",
    "                'log_interval': 10,\n",
    "                'epochs': 100,\n",
    "                'train_batch_size': 10,\n",
    "                'val_batch_size': 10,\n",
    "                # 'log_dir': f'tensorboard/{sito}/logs_{datetime.now().strftime(\"%d%m%Y_%H-%M\")}',\n",
    "                'save_graph': True,\n",
    "                'load_weight_path': None\n",
    "                }\n",
    "\n",
    "optimizer = Adam\n",
    "device = torch.device(\"cuda:0\" if torch.cuda.is_available() else \"cpu\")\n",
    "loss = F.mse_loss\n",
    "train_loader = create_datagen(parameters['train_dir'], parameters['train_batch_size'])\n",
    "dataset_description(train_loader)\n",
    "val_loader = create_datagen(parameters['val_dir'], parameters['val_batch_size'])\n",
    "dataset_description(val_loader)\n",
    "model=SimpleCNNconvNet224()\n"
   ]
  },
  {
   "cell_type": "markdown",
   "metadata": {},
   "source": [
    "Show single mini-batch"
   ]
  },
  {
   "cell_type": "code",
   "execution_count": 27,
   "metadata": {},
   "outputs": [
    {
     "name": "stderr",
     "output_type": "stream",
     "text": [
      "188.21s - thread._ident is None in _get_related_thread!\n"
     ]
    }
   ],
   "source": [
    "def imshow(img):\n",
    "    img = img / 2 + 0.5     # unnormalize\n",
    "    npimg = img.numpy()\n",
    "    plt.imshow(np.transpose(npimg, (1, 2, 0)))\n",
    "    plt.show()\n",
    "\n",
    "classes=tuple(labels_list)\n",
    "dataiter = iter(train_loader)\n",
    "images, labels = next(dataiter)\n",
    "imshow(torchvision.utils.make_grid(images))\n",
    "\n",
    "#Sono invertiti le label rispetto alle immmagini?\n",
    "print(' '.join(f'{classes[labels[j]]:5s}' for j in range(parameters['train_batch_size'])))"
   ]
  },
  {
   "cell_type": "code",
   "execution_count": null,
   "metadata": {},
   "outputs": [
    {
     "data": {
      "image/png": "[encoded data removed]",
      "text/plain": [
       "<Figure size 640x480 with 1 Axes>"
      ]
     },
     "metadata": {},
     "output_type": "display_data"
    },
    {
     "name": "stdout",
     "output_type": "stream",
     "text": [
      "different different different same  different same  different different same  different\n"
     ]
    }
   ],
   "source": []
  },
  {
   "cell_type": "markdown",
   "metadata": {},
   "source": [
    "trainer"
   ]
  },
  {
   "cell_type": "code",
   "execution_count": 6,
   "metadata": {},
   "outputs": [],
   "source": [
    "model.to(device)\n",
    "optimizer = optimizer(model.parameters())\n"
   ]
  }
 ],
 "metadata": {
  "kernelspec": {
   "display_name": "cabify_venv",
   "language": "python",
   "name": "python3"
  },
  "language_info": {
   "codemirror_mode": {
    "name": "ipython",
    "version": 3
   },
   "file_extension": ".py",
   "mimetype": "text/x-python",
   "name": "python",
   "nbconvert_exporter": "python",
   "pygments_lexer": "ipython3",
   "version": "3.10.12"
  },
  "orig_nbformat": 4
 },
 "nbformat": 4,
 "nbformat_minor": 2
}
