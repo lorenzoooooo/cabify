{
 "cells": [
  {
   "cell_type": "markdown",
   "metadata": {
    "id": "FCyot8tnZUKH"
   },
   "source": [
    "Challenge 1\n",
    "\n",
    "Success measure criterion --> Impact of service to increase restaurant's customers\n",
    "\n",
    "Impact measure criterion:\n",
    "    1. Compare sales before vs after picture posted\n",
    "    3. Compare quality of home made pictures with pro pictures -- The gap has decreased due to improvements and availability of technology and free tutorials\n",
    "    4. Since COVID more people order online --> Easier to sell food and then less need of high quality presentation? Or in the oder way higher standards?\n",
    "    5. Evolution of maintenance cost for photografy service\n",
    "\n",
    "Implementation:\n",
    "    Global:\n",
    "        For each year from 2001 to 2023: Number of subs to the service / Number of subscription to just eat --> Regression for the next X years\n",
    "        Evolution of the overall deployment and maintenance cost of the service --> regression for the next X years\n",
    "    Sample of restaurants divided by geographical criterion (maybe target, type of food):\n",
    "        Ratings (stars) of the service   \n",
    "        Percentage of sell increase with respect to before\n",
    "    Sample of customers divided by geographical criterion, target, type of food:\n",
    "        Percentage of orders coming from restaurant using photo service\n",
    "        Importance of picture criterion with respect to cost, qaulity and service criterion\n",
    "\n",
    "Avoid Bias by:\n",
    "    Create balanced dataset -- Balance by geographical areas, by price range\n",
    "    Normalization\n",
    "    K-Folding??\n",
    "\n",
    "    "
   ]
  },
  {
   "cell_type": "markdown",
   "metadata": {
    "id": "IvfA0s_QZUKJ"
   },
   "source": [
    "Punto 2: Semplice RNN con dataset etichettato.\n",
    "\n",
    "Etichettatura multipla --> Softmax come attivazione finale\n",
    "\n",
    "0: “Both are the same”\n",
    "1: “They differ”\n",
    "2: “I don’t know”\n",
    "\n",
    "Come gestire il fatto che lo stesso percorso possa essere etichettato in maniera differente da 2 o + persone? Devo trovare un criterio per scegliere quale etichetta tenere. (Qual'è l'etichetta con la percentuale maggiore sullo stesso percorso?)\n",
    "\n",
    "Attenzione real e estimated routes no hanno per forza la stessa lunghezza"
   ]
  },
  {
   "cell_type": "code",
   "execution_count": null,
   "metadata": {
    "colab": {
     "base_uri": "https://localhost:8080/"
    },
    "executionInfo": {
     "elapsed": 4924,
     "status": "ok",
     "timestamp": 1735650612785,
     "user": {
      "displayName": "lorenzo giraldi",
      "userId": "10228983639254068753"
     },
     "user_tz": -60
    },
    "id": "H1PsKUB1ZUKJ",
    "outputId": "c6809a93-712e-4ca9-b5a7-c4cb294bfe90"
   },
   "outputs": [],
   "source": [
    "from google.colab import drive\n",
    "drive.mount('/content/drive', force_remount=True)\n",
    "%cd /content/drive/My\\ Drive/cabify\n",
    "# with open(\"github_token.txt\", \"r\") as f:\n",
    "#   token = f.read()\n",
    "#  ! git clone https://{token}@github.com/lorenzoooooo/cabify\n",
    "%cd cabify\n",
    "! git pull\n",
    "!pip install pytorch-ignite"
   ]
  },
  {
   "cell_type": "code",
   "execution_count": 2,
   "metadata": {
    "executionInfo": {
     "elapsed": 5062,
     "status": "ok",
     "timestamp": 1735650617840,
     "user": {
      "displayName": "lorenzo giraldi",
      "userId": "10228983639254068753"
     },
     "user_tz": -60
    },
    "id": "e965AdEGZUKK"
   },
   "outputs": [],
   "source": [
    "import pandas as pd\n",
    "import matplotlib.pyplot as plt\n",
    "import torch\n",
    "import torch.nn as nn\n",
    "import torch.nn.functional as F\n",
    "import torchvision\n",
    "import torchvision.transforms as transforms\n",
    "import os\n",
    "import shutil\n",
    "import random\n",
    "import numpy as np"
   ]
  },
  {
   "cell_type": "code",
   "execution_count": 3,
   "metadata": {
    "executionInfo": {
     "elapsed": 5,
     "status": "ok",
     "timestamp": 1735650617841,
     "user": {
      "displayName": "lorenzo giraldi",
      "userId": "10228983639254068753"
     },
     "user_tz": -60
    },
    "id": "RxTbtPxmZUKK"
   },
   "outputs": [],
   "source": [
    "# #Load json to dataframe\n",
    "# df = pd.read_json('challenge_dataset.json')\n",
    "# print(f\"df size:  {df.size}\")\n",
    "\n",
    "# #Print a sample of real and estimated route\n",
    "# i=df.iloc[3]\n",
    "# df_estimated = pd.DataFrame(i['estimated_route'], columns=['Lat','Long'])\n",
    "# # print(df_estimated.size)\n",
    "# df_real = pd.DataFrame(i['real_route'], columns=['Lat','Long'])\n",
    "# # print(df_real.size)\n",
    "# plt.plot(df_estimated['Lat'], df_estimated['Long'], color='b')\n",
    "# plt.plot(df_real['Lat'], df_real['Long'], color='r')\n",
    "# # plt.scatter(df_estimated['Lat'], df_estimated['Long'], color='b')\n",
    "# # plt.scatter(df_real['Lat'], df_real['Long'], color='r')\n",
    "# plt.title('Annotator: ' + str(i['annotator'])+'\\n'+'Annotation: '+str(i['annotation']))\n",
    "# plt.legend(['Estimated route','Real route'])"
   ]
  },
  {
   "cell_type": "markdown",
   "metadata": {
    "id": "fTBdxuldZUKK"
   },
   "source": [
    "reflexions:\n",
    "    1. Dataset samples have different sizes -- Input size is variable --> how to declare NN?\n",
    "    2. Are points related temporally o spatially? RNN need equal temporal dependencies between samples. Otherwise can use Graph neural network.\n",
    "\n",
    "Approccio con feed forward:\n",
    "Layer iniziale deve avere dimensione ingresso -- Basic MLP are not fit to take variable input size, either introduce padding or cut to fized size\n",
    "\n",
    "GNN/GCN approach: Can take variable graph sizes as input\n",
    "\n",
    "The point is that I don't have single graph with label, but couple of graphs. I don't want to learn how to recognize the \"ight\" graph, I want to recognize if the graph differs\n"
   ]
  },
  {
   "cell_type": "markdown",
   "metadata": {
    "id": "BL3aASQxZUKK"
   },
   "source": [
    "Feed forward attempt"
   ]
  },
  {
   "cell_type": "code",
   "execution_count": 4,
   "metadata": {
    "executionInfo": {
     "elapsed": 5,
     "status": "ok",
     "timestamp": 1735650617841,
     "user": {
      "displayName": "lorenzo giraldi",
      "userId": "10228983639254068753"
     },
     "user_tz": -60
    },
    "id": "3ZQvK8I4ZUKK"
   },
   "outputs": [],
   "source": [
    "# input_size=??\n",
    "# number_of_features=2"
   ]
  },
  {
   "cell_type": "code",
   "execution_count": 5,
   "metadata": {
    "executionInfo": {
     "elapsed": 4,
     "status": "ok",
     "timestamp": 1735650617841,
     "user": {
      "displayName": "lorenzo giraldi",
      "userId": "10228983639254068753"
     },
     "user_tz": -60
    },
    "id": "LqDXtEM0ZUKL"
   },
   "outputs": [],
   "source": [
    "# class Net(nn.Module):\n",
    "\n",
    "#     def __init__(self):\n",
    "#         super(Net, self).__init__()\n",
    "\n",
    "#         # an affine operation: y = Wx + b\n",
    "#         self.fc1 = nn.Linear(input_size, number_of_features )  # 5*5 from image dimension\n",
    "#         self.fc2 = nn.Linear(120, 84)\n",
    "#         self.fc3 = nn.Linear(84, 10)\n",
    "\n",
    "#     def forward(self, input):\n",
    "#         f1 = F.relu(self.fc1(input))\n",
    "#         # Fully connected layer F6: (N, 120) Tensor input,\n",
    "#         # and outputs a (N, 84) Tensor, it uses RELU activation function\n",
    "#         f2 = F.relu(self.fc2(f1))\n",
    "#         # Gaussian layer OUTPUT: (N, 84) Tensor input, and\n",
    "#         # outputs a (N, 10) Tensor\n",
    "#         output = self.fc3(f2)\n",
    "#         return output\n",
    "\n",
    "\n",
    "# net = Net()\n",
    "# print(net)"
   ]
  },
  {
   "cell_type": "markdown",
   "metadata": {
    "id": "osblonFFZUKL"
   },
   "source": [
    "\n",
    "Possible alternative approach: Convolutional network --> Generate images of routes with associated labels and learn to recognize. 5000 images to generate -- Expensive approach"
   ]
  },
  {
   "cell_type": "markdown",
   "metadata": {
    "id": "A1l4VihcZUKL"
   },
   "source": [
    "Generate fixed size image dataset"
   ]
  },
  {
   "cell_type": "code",
   "execution_count": 6,
   "metadata": {
    "executionInfo": {
     "elapsed": 5,
     "status": "ok",
     "timestamp": 1735650617842,
     "user": {
      "displayName": "lorenzo giraldi",
      "userId": "10228983639254068753"
     },
     "user_tz": -60
    },
    "id": "GdprCU8lZUKL"
   },
   "outputs": [],
   "source": [
    "# #Load dataset\n",
    "# df = pd.read_json('challenge_dataset.json')\n",
    "\n",
    "# # print(f'number of same routes annotations: {df[(df[\"annotation\"]==\"Both are the same\")].shape[0]}')\n",
    "# # print(f'number of different routes annotations: {df[(df[\"annotation\"]==\"They differ\")].shape[0]}')\n",
    "\n",
    "# #List containing final dataset composed of journey_id and annotation\n",
    "# rows_to_keep = []\n",
    "\n",
    "# #Check if same route has multiple rating and if the annotations are different choose the one who is more rated\n",
    "# iter = df['journey_id'].unique()\n",
    "# for i in iter:\n",
    "#     #Select all the rows regarding the same journey_id\n",
    "#     mask=(df['journey_id']==i)\n",
    "\n",
    "#     #If this journey_id is rated only once append the journey_id and annotation to list\n",
    "#     if (df[mask].shape[0]==1):\n",
    "#         rows_to_keep.append([df[mask]['journey_id'].values[0], df[mask]['annotation'].values[0],\n",
    "#                              df[mask]['estimated_route'].values[0], df[mask]['real_route'].values[0]])\n",
    "\n",
    "#     #Otherwise choose the more used annotation on this journey_id\n",
    "#     else:\n",
    "#         # Count the number of times an annotation appears\n",
    "#         x=df[mask]\n",
    "#         tmp=[]\n",
    "#         tmp.append(x[(x['annotation']==\"Both are the same\")].shape[0])\n",
    "#         tmp.append(x[(x['annotation']==\"They differ\")].shape[0])\n",
    "#         tmp.append(x[(x['annotation']==\"I don't know\")].shape[0])\n",
    "\n",
    "#         #Select the annotation with max occurences\n",
    "#         # selected_label=max(tmp)\n",
    "#         idx_selected_label = tmp.index(max(tmp))\n",
    "\n",
    "#         # Map the index to the corresponding label\n",
    "#         labels = [\"Both are the same\", \"They differ\", \"I don't know\"]\n",
    "#         selected_label_value = labels[idx_selected_label]\n",
    "\n",
    "#         # Filter rows that match the selected label and append to list\n",
    "#         tmp_list=x[x['annotation'] == selected_label_value].iloc[0]\n",
    "#         rows_to_keep.append([tmp_list.values[0], tmp_list.values[2],\n",
    "#                              tmp_list.values[3], tmp_list.values[4]])\n",
    "\n",
    "# labels_path='labels.csv'\n",
    "# final_df=pd.DataFrame(rows_to_keep, columns=['journey_id', 'annotation', 'estimated_route', 'real_route'])\n",
    "# final_df.to_csv(labels_path, columns=['journey_id', 'annotation'], index=False)"
   ]
  },
  {
   "cell_type": "code",
   "execution_count": 7,
   "metadata": {
    "executionInfo": {
     "elapsed": 5,
     "status": "ok",
     "timestamp": 1735650617842,
     "user": {
      "displayName": "lorenzo giraldi",
      "userId": "10228983639254068753"
     },
     "user_tz": -60
    },
    "id": "DPMEdLuFZUKL"
   },
   "outputs": [],
   "source": [
    "# # Create directory to save images\n",
    "# output_dir = 'route_images'\n",
    "# os.makedirs(output_dir, exist_ok=True)\n",
    "\n",
    "# # Turn interactive plotting off to not show every figure\n",
    "# plt.ioff()\n",
    "\n",
    "# #Create database of unique routes images\n",
    "# for _, df_sample in final_df.iterrows():\n",
    "#     df_estimated = pd.DataFrame(df_sample['estimated_route'], columns=['Lat','Long'])\n",
    "#     df_real = pd.DataFrame(df_sample['real_route'], columns=['Lat','Long'])\n",
    "\n",
    "#     fig = plt.figure(frameon=False)\n",
    "#     # Set the figure size to be square (for example, 6x6 inches)\n",
    "#     fig.set_size_inches(6, 6)\n",
    "\n",
    "#     image_path = f'{output_dir}/{df_sample[\"journey_id\"]}.png'\n",
    "#     ax = plt.Axes(fig, [0., 0., 1., 1.])\n",
    "#     ax.set_axis_off()\n",
    "#     fig.add_axes(ax)\n",
    "\n",
    "#     plt.plot(df_estimated['Lat'], df_estimated['Long'], color='c')\n",
    "#     plt.plot(df_real['Lat'], df_real['Long'], color='r')\n",
    "#     # plt.savefig(image_path, dpi=300, bbox_inches='tight') # Dimension = 1920*1440 pixels\n",
    "#     plt.savefig(image_path, dpi=37, bbox_inches='tight')   # Dimension 224*224\n",
    "#     # plt.savefig(image_path, dpi=5, bbox_inches='tight')   # Dimension 32*32\n",
    "#     plt.close()\n",
    "\n",
    "# #Execution time - 6min39s for image Dimension = 1920*1440 pixels\n",
    "# #Execution time - 1min30s for image Dimension = 224*224 pixels\n",
    "# #Execution time - 31s for image Dimension = 32*32 pixels"
   ]
  },
  {
   "cell_type": "markdown",
   "metadata": {
    "id": "rFb6k2I3ZUKL"
   },
   "source": [
    "Create dataset splitting in Train, Val and Test - Unbalanced\n",
    "----Run only once, oherwise it adds to the dataset previously created ---"
   ]
  },
  {
   "cell_type": "code",
   "execution_count": 8,
   "metadata": {
    "executionInfo": {
     "elapsed": 5,
     "status": "ok",
     "timestamp": 1735650617842,
     "user": {
      "displayName": "lorenzo giraldi",
      "userId": "10228983639254068753"
     },
     "user_tz": -60
    },
    "id": "3eCJNDAPZUKL"
   },
   "outputs": [],
   "source": [
    "# Paths\n",
    "source_dir = 'route_images'\n",
    "dataset_dir='dataset'\n",
    "val_dir = f'{dataset_dir}/Val/'\n",
    "train_dir = f'{dataset_dir}/Train/'\n",
    "test_dir = f'{dataset_dir}/Test/'\n",
    "output_dir = 'labels.csv'\n",
    "# labels_list=['same','different','idk']\n",
    "#For now i don't create the idk class\n",
    "# labels_list=['same','different']\n",
    "labels_list=['different','same']\n",
    "classes=tuple(labels_list)\n",
    "dir_list=[train_dir, test_dir, val_dir]\n",
    "\n",
    "# Do the following only if the dataset has not been already created. To create new just empty the dataset folder\n",
    "if len(os.listdir(dataset_dir)) == 0:\n",
    "    #### Split Dataset equally between Train and Validation #############################################################\n",
    "    for i in dir_list:\n",
    "        if not os.path.exists(i):\n",
    "            os.makedirs(i)\n",
    "        for j in labels_list:\n",
    "            path=f'{i}{j}'\n",
    "            print(path)\n",
    "            if not os.path.exists(path):\n",
    "                os.makedirs(path)\n",
    "\n",
    "    ## Import csv file containing labels and annotation and count the number of total elements\n",
    "    labels = pd.read_csv(output_dir)\n",
    "    num_files = len(labels)\n",
    "    print('Numero di files nella cartella: ', num_files)\n",
    "\n",
    "\n",
    "    # Create mask for each annotation\n",
    "    mask_same = (labels['annotation']=='Both are the same')\n",
    "    print(f'number of same elements: {len(labels[mask_same])}')\n",
    "    mask_different = (labels['annotation']=='They differ')\n",
    "    print(f'number of diff elements: {len(labels[mask_different])}')\n",
    "    mask_idk=(labels['annotation']==\"I don't know\")\n",
    "    print(f'number of idk elements: {len(labels[mask_idk])}')\n",
    "\n",
    "    #Divide between training, validation and test (70%,10%,20%) --- Not using label I don't know\n",
    "    #Create Training set\n",
    "    train_set=[]\n",
    "    x=labels[mask_same]['journey_id'].to_list()\n",
    "    y=labels[mask_different]['journey_id'].to_list()\n",
    "    train_set = random.sample(x, int(0.70*len(x))) + random.sample(y, int(0.70*len(y)))\n",
    "\n",
    "    #Select the remaining data and split it between test (2/3) and validation set (1/3)\n",
    "    # To apply the difference operator I hve to cast the data to set. I cast it back to list for random samples.\n",
    "    remaining_x_set = set(x).difference(train_set)\n",
    "    remaining_y_set = set(y).difference(train_set)\n",
    "    test_set = (random.sample(list(remaining_x_set), int(0.66*len(remaining_x_set))) +\n",
    "                random.sample(list(remaining_y_set), int(0.66*len(remaining_y_set))))\n",
    "    val_set = set(list(remaining_x_set) + list(remaining_y_set)).difference(test_set)\n",
    "\n",
    "    #Copy images in the respective folder\n",
    "    for i in labels.values:\n",
    "        idx=i[1]\n",
    "        files=i[0]\n",
    "\n",
    "        #Categorize data based on the labels\n",
    "        if idx == 'Both are the same':\n",
    "            folder=labels_list[0]\n",
    "        elif idx == 'They differ':\n",
    "            folder=labels_list[1]\n",
    "        # else:\n",
    "        #     folder=labels_list[2]\n",
    "\n",
    "        #Place data in the correct dataset spit (Train, Test, Validation)\n",
    "        if files in train_set:\n",
    "            shutil.copy(os.path.join(source_dir, files+'.png'), f'{train_dir}{folder}')\n",
    "        elif files in test_set:\n",
    "            shutil.copy(os.path.join(source_dir, files+'.png'), f'{test_dir}{folder}')\n",
    "        elif files in val_set:\n",
    "            shutil.copy(os.path.join(source_dir, files+'.png'), f'{val_dir}{folder}')\n",
    "        else:\n",
    "            continue"
   ]
  },
  {
   "cell_type": "markdown",
   "metadata": {
    "id": "tgdI1vvjZUKM"
   },
   "source": [
    "size: 32*32"
   ]
  },
  {
   "cell_type": "code",
   "execution_count": 9,
   "metadata": {
    "executionInfo": {
     "elapsed": 4,
     "status": "ok",
     "timestamp": 1735650617842,
     "user": {
      "displayName": "lorenzo giraldi",
      "userId": "10228983639254068753"
     },
     "user_tz": -60
    },
    "id": "OGI-PTBLZUKM"
   },
   "outputs": [],
   "source": [
    "# class convNet32(nn.Module):\n",
    "#     def __init__(self):\n",
    "#         super().__init__()\n",
    "#         self.conv1 = nn.Conv2d(3, 6, 5)\n",
    "#         self.pool = nn.MaxPool2d(2, 2)\n",
    "#         self.conv2 = nn.Conv2d(6, 16, 5)\n",
    "\n",
    "#         # self.fc1 = nn.Linear(16 * 5 * 5, 120)  ## From the calculation on papaer it should be input dimension=16*10*10\n",
    "#         self.fc1 = nn.Linear(16 * 10 * 10, 120)\n",
    "#         self.fc2 = nn.Linear(120, 84)\n",
    "#         self.fc3 = nn.Linear(84, 10)\n",
    "\n",
    "#     def forward(self, x):\n",
    "#         x = self.pool(F.relu(self.conv1(x)))\n",
    "#         x = self.pool(F.relu(self.conv2(x)))\n",
    "#         x = torch.flatten(x, 1) # flatten all dimensions except batch\n",
    "#         x = F.relu(self.fc1(x))\n",
    "#         x = F.relu(self.fc2(x))\n",
    "#         x = self.fc3(x)\n",
    "#         return x"
   ]
  },
  {
   "cell_type": "markdown",
   "metadata": {
    "id": "WjG-NZiyZUKM"
   },
   "source": [
    "size 224*224"
   ]
  },
  {
   "cell_type": "code",
   "execution_count": 10,
   "metadata": {
    "colab": {
     "base_uri": "https://localhost:8080/"
    },
    "executionInfo": {
     "elapsed": 3410,
     "status": "ok",
     "timestamp": 1735650696468,
     "user": {
      "displayName": "lorenzo giraldi",
      "userId": "10228983639254068753"
     },
     "user_tz": -60
    },
    "id": "8fzjahOTZUKM",
    "outputId": "964e4d96-b022-4253-ee93-346639ab2c99"
   },
   "outputs": [
    {
     "name": "stdout",
     "output_type": "stream",
     "text": [
      "SimpleCNNconvNet224(\n",
      "  (conv1): Conv2d(3, 64, kernel_size=(3, 3), stride=(1, 1), padding=(1, 1))\n",
      "  (pool): MaxPool2d(kernel_size=2, stride=2, padding=0, dilation=1, ceil_mode=False)\n",
      "  (conv2): Conv2d(64, 128, kernel_size=(3, 3), stride=(1, 1), padding=(1, 1))\n",
      "  (pool2): MaxPool2d(kernel_size=2, stride=2, padding=0, dilation=1, ceil_mode=False)\n",
      "  (conv3): Conv2d(128, 256, kernel_size=(3, 3), stride=(1, 1), padding=(1, 1))\n",
      "  (pool3): MaxPool2d(kernel_size=2, stride=2, padding=0, dilation=1, ceil_mode=False)\n",
      "  (fc1): Linear(in_features=200704, out_features=2048, bias=True)\n",
      "  (fc2): Linear(in_features=2048, out_features=512, bias=True)\n",
      "  (fc3): Linear(in_features=512, out_features=2, bias=True)\n",
      ")\n"
     ]
    }
   ],
   "source": [
    "class SimpleCNNconvNet224(nn.Module):\n",
    "    def __init__(self):\n",
    "        super(SimpleCNNconvNet224, self).__init__()\n",
    "\n",
    "        # First convolution layer\n",
    "        self.conv1 = nn.Conv2d(3, 64, kernel_size=3, stride=1, padding=1)  # Output: 224x224x64\n",
    "        self.pool = nn.MaxPool2d(kernel_size=2, stride=2, padding=0)      # Output: 112x112x64\n",
    "\n",
    "        # Second convolution layer\n",
    "        self.conv2 = nn.Conv2d(64, 128, kernel_size=3, stride=1, padding=1)  # Output: 112x112x128\n",
    "        self.pool2 = nn.MaxPool2d(kernel_size=2, stride=2, padding=0)       # Output: 56x56x128\n",
    "\n",
    "        # Third convolution layer\n",
    "        self.conv3 = nn.Conv2d(128, 256, kernel_size=3, stride=1, padding=1) # Output: 56x56x256\n",
    "        self.pool3 = nn.MaxPool2d(kernel_size=2, stride=2, padding=0)       # Output: 28x28x256\n",
    "\n",
    "        # Fully connected layers\n",
    "        self.fc1 = nn.Linear(256 * 28 * 28, 2048)   # Flattened input to FC layer\n",
    "        self.fc2 = nn.Linear(2048, 512)             # Second FC layer\n",
    "        self.fc3 = nn.Linear(512, 2)               # Output layer (2 classes)\n",
    "\n",
    "    def forward(self, x):\n",
    "        # Pass through first convolution and max pool\n",
    "        x = F.relu(self.conv1(x))\n",
    "        x = self.pool(x)\n",
    "        # print(f'dimensione di x fopo conv1: {x.size()}')\n",
    "        # Pass through second convolution and max pool\n",
    "        x = F.relu(self.conv2(x))\n",
    "        x = self.pool2(x)\n",
    "        # print(f'dimensione di x fopo conv2: {x.size()}')\n",
    "        # Pass through third convolution and max pool\n",
    "        x = F.relu(self.conv3(x))\n",
    "        x = self.pool3(x)\n",
    "        # print(f'dimensione di x fopo conv3: {x.size()}')\n",
    "        # Flatten the output for the fully connected layers\n",
    "        # x = x.view(-1, 256 * 28 * 28)\n",
    "        x=torch.flatten(x,1)\n",
    "\n",
    "        # Pass through fully connected layers\n",
    "        x = F.relu(self.fc1(x))\n",
    "        # print(f'dimensione di x fopo fc1: {x.size()}')\n",
    "        x = F.relu(self.fc2(x))\n",
    "        # print(f'dimensione di x fopo fc2: {x.size()}')\n",
    "        x = self.fc3(x)\n",
    "        # print(f'dimensione di x fopo fc3: {x.size()}')\n",
    "        return x\n",
    "\n",
    "print(SimpleCNNconvNet224())"
   ]
  },
  {
   "cell_type": "markdown",
   "metadata": {
    "id": "E5QbfvA0ZUKM"
   },
   "source": [
    "Delcare hyperparameters, choose optimizer, determine if it's possible to use cpu or gpu, and load dataset"
   ]
  },
  {
   "cell_type": "code",
   "execution_count": 11,
   "metadata": {
    "colab": {
     "base_uri": "https://localhost:8080/"
    },
    "executionInfo": {
     "elapsed": 997,
     "status": "ok",
     "timestamp": 1735650723444,
     "user": {
      "displayName": "lorenzo giraldi",
      "userId": "10228983639254068753"
     },
     "user_tz": -60
    },
    "id": "PLblgq2RZUKN",
    "outputId": "6f1f9e88-510e-49f6-a119-52476b6eaee6"
   },
   "outputs": [
    {
     "name": "stdout",
     "output_type": "stream",
     "text": [
      "dataset/Train/\n",
      "\n",
      "Batch 1:\n",
      "Images shape:  torch.Size([4, 3, 224, 224])\n",
      "Batch 2:\n",
      "Images shape:  torch.Size([4, 3, 224, 224])\n",
      "Batch 3:\n",
      "Images shape:  torch.Size([4, 3, 224, 224])\n",
      "dataset/Val/\n",
      "\n",
      "Batch 1:\n",
      "Images shape:  torch.Size([4, 3, 224, 224])\n",
      "Batch 2:\n",
      "Images shape:  torch.Size([4, 3, 224, 224])\n",
      "Batch 3:\n",
      "Images shape:  torch.Size([4, 3, 224, 224])\n",
      "dataset/Test/\n",
      "\n",
      "Batch 1:\n",
      "Images shape:  torch.Size([4, 3, 224, 224])\n",
      "Batch 2:\n",
      "Images shape:  torch.Size([4, 3, 224, 224])\n",
      "Batch 3:\n",
      "Images shape:  torch.Size([4, 3, 224, 224])\n"
     ]
    }
   ],
   "source": [
    "from torchvision.datasets import ImageFolder\n",
    "from torch.utils.data import DataLoader\n",
    "from torchvision.transforms import Compose, ToTensor, Grayscale, CenterCrop\n",
    "import argparse\n",
    "import torch.nn.functional as F\n",
    "import torch.nn\n",
    "from torch.optim import Adam\n",
    "import torch\n",
    "from datetime import datetime\n",
    "\n",
    "# Function to transform image\n",
    "def create_datagen(data_dir, batch_size=8):\n",
    "    # transform = Compose([Grayscale(), ToTensor()])    # for bn images\n",
    "    transform = Compose([ToTensor(), CenterCrop([224,224]),\n",
    "                         transforms.Normalize((0.5, 0.5, 0.5), (0.5, 0.5, 0.5))])   # input: [224*224]\n",
    "    dataset = ImageFolder(data_dir, transform=transform)\n",
    "    dataloader = DataLoader(dataset,\n",
    "                            batch_size=batch_size,\n",
    "                            shuffle=True,\n",
    "                            num_workers=2)\n",
    "    return dataloader\n",
    "\n",
    "def dataset_description(data_loader):\n",
    "    print(data_loader.dataset.root)\n",
    "    print()  # Add an empty line for better readability\n",
    "    for batch_idx, (images, _) in enumerate(data_loader):\n",
    "        print(f\"Batch {batch_idx+1}:\")\n",
    "        print(\"Images shape: \", images.size())  # Prints shape of the batch of images\n",
    "\n",
    "        # Optionally, you can break after printing a few batches\n",
    "        if batch_idx == 2:\n",
    "            break\n",
    "\n",
    "parameters = {'train_dir': train_dir,\n",
    "                'val_dir': val_dir,\n",
    "                'test_dir': test_dir,\n",
    "                'log_interval': 2,\n",
    "                'epochs': 10,\n",
    "                'train_batch_size': 4,\n",
    "                'val_batch_size': 4,\n",
    "                'test_batch_size': 4,\n",
    "                'log_dir': f'tensorboard/logs_{datetime.now().strftime(\"%d%m%Y_%H-%M\")}',\n",
    "                'save_graph': False,\n",
    "                'load_weight_path': None\n",
    "                }\n",
    "\n",
    "train_loader = create_datagen(parameters['train_dir'], parameters['train_batch_size'])\n",
    "dataset_description(train_loader)\n",
    "val_loader = create_datagen(parameters['val_dir'], parameters['val_batch_size'])\n",
    "dataset_description(val_loader)\n",
    "test_loader = create_datagen(parameters['test_dir'], parameters['test_batch_size'])\n",
    "dataset_description(test_loader)"
   ]
  },
  {
   "cell_type": "markdown",
   "metadata": {
    "id": "sXeQRAmaZUKN"
   },
   "source": [
    "Show single mini-batch"
   ]
  },
  {
   "cell_type": "code",
   "execution_count": 12,
   "metadata": {
    "colab": {
     "base_uri": "https://localhost:8080/",
     "height": 207
    },
    "executionInfo": {
     "elapsed": 533,
     "status": "ok",
     "timestamp": 1735650726050,
     "user": {
      "displayName": "lorenzo giraldi",
      "userId": "10228983639254068753"
     },
     "user_tz": -60
    },
    "id": "uDjN0lslZUKN",
    "outputId": "dc168f4e-2db4-4e66-bc20-78afa1e3e6f4"
   },
   "outputs": [
    {
     "data": {
      "image/png": "[encoded data removed]",
      "text/plain": [
       "<Figure size 640x480 with 1 Axes>"
      ]
     },
     "metadata": {},
     "output_type": "display_data"
    },
    {
     "name": "stdout",
     "output_type": "stream",
     "text": [
      "same  different same  different\n"
     ]
    }
   ],
   "source": [
    "def imshow(img):\n",
    "    img = img / 2 + 0.5     # unnormalize\n",
    "    npimg = img.numpy()\n",
    "    plt.imshow(np.transpose(npimg, (1, 2, 0)))\n",
    "    plt.show()\n",
    "\n",
    "\n",
    "dataiter = iter(train_loader)\n",
    "images, labels = next(dataiter)\n",
    "imshow(torchvision.utils.make_grid(images))\n",
    "\n",
    "#Sono invertiti le label rispetto alle immmagini?\n",
    "print(' '.join(f'{classes[labels[j]]:5s}' for j in range(parameters['train_batch_size'])))"
   ]
  },
  {
   "cell_type": "code",
   "execution_count": 13,
   "metadata": {
    "id": "v1bPG_P5ZUKN"
   },
   "outputs": [
    {
     "name": "stderr",
     "output_type": "stream",
     "text": [
      "/home/lgiraldi/code/cabify/cabify_venv/lib/python3.10/site-packages/ignite/handlers/checkpoint.py:16: DeprecationWarning: `TorchScript` support for functional optimizers is deprecated and will be removed in a future PyTorch release. Consider using the `torch.compile` optimizer instead.\n",
      "  from torch.distributed.optim import ZeroRedundancyOptimizer\n"
     ]
    }
   ],
   "source": [
    "from ignite.engine import Engine, Events\n",
    "from ignite.metrics import Loss, RunningAverage, Accuracy\n",
    "from ignite.metrics import ConfusionMatrix\n",
    "# from torch.utils.tensorboard import SummaryWriter\n",
    "import pathlib\n",
    "from torchvision import datasets, transforms\n",
    "import torch\n",
    "from ignite.handlers import Checkpoint, DiskSaver, global_step_from_engine\n",
    "import os\n",
    "\n",
    "\n",
    "def create_summary_writer(model, train_loader, log_dir, save_graph, device):\n",
    "    \"\"\"Creates a tensorboard summary writer\n",
    "\n",
    "    Arguments:\n",
    "        model {pytorch model}     -- the model whose graph needs to be saved\n",
    "        train_loader {dataloader} -- the training dataloader\n",
    "        log_dir {str}             -- the logging directory path\n",
    "        save_graph {bool}         -- if True a graph is saved into the\n",
    "                                     tensorboard log folder\n",
    "        device {torch.device}     -- torch device object\n",
    "\n",
    "    Returns:\n",
    "        writer -- tensorboard SummaryWriter object\n",
    "    \"\"\"\n",
    "    # writer = SummaryWriter(log_dir=log_dir)\n",
    "    # if save_graph:\n",
    "    #     images, labels = next(iter(train_loader))\n",
    "    #     images = images.to(device)\n",
    "    #     try:\n",
    "    #         writer.add_graph(model, images)\n",
    "    #     except Exception as e:\n",
    "    #         print(\"Failed to save model graph: {}\".format(e))\n",
    "    # return writer\n",
    "\n",
    "def train(model, optimizer, loss_fn, train_loader, val_loader,\n",
    "          log_dir, device, epochs, log_interval,\n",
    "          load_weight_path=None, save_graph=False):\n",
    "    \"\"\"Training logic for the wavelet model\n",
    "\n",
    "    Arguments:\n",
    "        model {pytorch model}       -- the model to be trained\n",
    "        optimizer {torch optim}     -- optimiser to be used\n",
    "        loss_fn                     -- loss_fn function\n",
    "        train_loader {dataloader}   -- training dataloader\n",
    "        val_loader {dataloader}     -- validation dataloader\n",
    "        log_dir {str}               -- the log directory\n",
    "        device {torch.device}       -- the device to be used e.g. cpu or cuda\n",
    "        epochs {int}                -- the number of epochs\n",
    "        log_interval {int}          -- the log interval for train batch loss\n",
    "\n",
    "    Keyword Arguments:\n",
    "        load_weight_path {str} -- Model weight path to be loaded (default: {None})\n",
    "        save_graph {bool}      -- whether to save the model graph (default: {False})\n",
    "\n",
    "    Returns:\n",
    "        None\n",
    "    \"\"\"\n",
    "    model.to(device)\n",
    "    if load_weight_path is not None:\n",
    "        model.load_state_dict(torch.load(load_weight_path))\n",
    "\n",
    "    optimizer = optimizer(model.parameters())\n",
    "    accuracy = Accuracy()\n",
    "\n",
    "    #training steps\n",
    "    def process_function(engine, batch):\n",
    "        model.train()\n",
    "        optimizer.zero_grad()\n",
    "        x, labels = batch\n",
    "        x = x.to(device)\n",
    "        # print(x.size())\n",
    "        y = model(x)\n",
    "        labels = labels.to(device)\n",
    "        loss = loss_fn(y, labels)\n",
    "        loss.backward()\n",
    "        optimizer.step()\n",
    "        return loss.item()\n",
    "\n",
    "    # evaluation steps (Val)\n",
    "    def evaluate_function(engine, batch):\n",
    "        model.eval()\n",
    "        with torch.no_grad():\n",
    "            x, labels = batch\n",
    "            x = x.to(device)\n",
    "            y = model(x)\n",
    "            labels=labels.to(device)\n",
    "            loss = loss_fn(y,labels)\n",
    "            return loss.item()\n",
    "\n",
    "    # Questo oggetto contiene tutti i dati riguardanti il training\n",
    "    trainer = Engine(process_function)\n",
    "    # Questo oggetto contiene tutti i dati riguardanti la valutazione del modello. Ogni volta che viene chimato run su un determinato dataset\n",
    "    # il modello viene valutato.\n",
    "    # #Calcola la loss e segna ilnumero di epoche correnti, l'iterazione etc...\n",
    "    evaluator = Engine(evaluate_function)\n",
    "    accuracy.attach(evaluator, \"accuracy\") \n",
    "\n",
    "\n",
    "    RunningAverage(output_transform=lambda x:x).attach(trainer,'loss')\n",
    "    RunningAverage(output_transform=lambda x:x).attach(evaluator,'loss')\n",
    "    \n",
    "    # writer = create_summary_writer(model, train_loader, log_dir,\n",
    "    #                                save_graph, device)\n",
    "\n",
    "    def score_function(engine):\n",
    "        return -engine.state.metrics['loss']\n",
    "\n",
    "    to_save = {'model': model}\n",
    "    handler = Checkpoint(\n",
    "        to_save,\n",
    "        DiskSaver(os.path.join(log_dir, 'models'), create_dir=True),\n",
    "        n_saved=5, filename_prefix='best', score_function=score_function,\n",
    "        score_name=\"loss\",\n",
    "        global_step_transform=global_step_from_engine(trainer))\n",
    "\n",
    "    evaluator.add_event_handler(Events.COMPLETED, handler)\n",
    "\n",
    "    # Calcola la loss ogni \"log_interval\" iterazioni sul batch corrente. \"log interval\" di default vale 10.\n",
    "    @trainer.on(Events.ITERATION_COMPLETED(every=log_interval))\n",
    "    def log_training_loss(engine):\n",
    "        print(\n",
    "            f\"Epoch[{engine.state.epoch}] Iteration[{engine.state.iteration}/\"\n",
    "            f\"{len(train_loader)}] Loss: {engine.state.output:.10f}\"\n",
    "        )\n",
    "        # writer.add_scalar(\"training/loss\", engine.state.output,\n",
    "        #                   engine.state.iteration)\n",
    "\n",
    "    # Calcola la loss su tutto il training set una volta che l'epoca è finita\n",
    "    @trainer.on(Events.EPOCH_COMPLETED)\n",
    "    def log_training_results(engine):\n",
    "        evaluator.run(train_loader)\n",
    "        metrics = evaluator.state.metrics\n",
    "        avg_loss = metrics[\"loss\"]\n",
    "        print(\n",
    "            f\"Training Results - Epoch: {engine.state.epoch} Avg loss: {avg_loss:.10f}\"\n",
    "        )\n",
    "        # writer.add_scalar(\"training/avg_loss\", avg_loss, engine.state.epoch)\n",
    "\n",
    "    # Calcola la loss su tutto il validation set una volta che l'epoca è finita\n",
    "    @trainer.on(Events.EPOCH_COMPLETED)\n",
    "    def log_validation_results(engine):\n",
    "        evaluator.run(val_loader)\n",
    "        metrics = evaluator.state.metrics\n",
    "        avg_loss = metrics[\"loss\"]\n",
    "        avg_accuracy = metrics[\"accuracy\"] \n",
    "        print(\n",
    "            f\"Validation Results - Epoch: {engine.state.epoch}\"\n",
    "            f\"Avg loss: {avg_loss:.10f}, Avg accuracy: {avg_accuracy:.4f}\"\n",
    "        )\n",
    "        # writer.add_scalar(\"validation/avg_loss\", avg_loss, engine.state.epoch)\n",
    "\n",
    "    trainer.run(train_loader, max_epochs=epochs)\n",
    "\n",
    "    # writer.close()"
   ]
  },
  {
   "cell_type": "markdown",
   "metadata": {
    "id": "u_XayXFLZUKN"
   },
   "source": [
    "trainer"
   ]
  },
  {
   "cell_type": "code",
   "execution_count": 14,
   "metadata": {
    "executionInfo": {
     "elapsed": 4155,
     "status": "ok",
     "timestamp": 1735650736073,
     "user": {
      "displayName": "lorenzo giraldi",
      "userId": "10228983639254068753"
     },
     "user_tz": -60
    },
    "id": "kzdNf0WjZUKN"
   },
   "outputs": [],
   "source": [
    "optimizer = Adam\n",
    "device = torch.device(\"cuda:0\" if torch.cuda.is_available() else \"cpu\")\n",
    "loss = F.cross_entropy\n",
    "model=SimpleCNNconvNet224()"
   ]
  },
  {
   "cell_type": "code",
   "execution_count": 15,
   "metadata": {
    "colab": {
     "base_uri": "https://localhost:8080/"
    },
    "collapsed": true,
    "executionInfo": {
     "elapsed": 938022,
     "status": "ok",
     "timestamp": 1735651676751,
     "user": {
      "displayName": "lorenzo giraldi",
      "userId": "10228983639254068753"
     },
     "user_tz": -60
    },
    "id": "naREcLCFZUKN",
    "outputId": "293079d8-82d2-4377-bdaf-0c548991c764"
   },
   "outputs": [
    {
     "ename": "",
     "evalue": "",
     "output_type": "error",
     "traceback": [
      "\u001b[1;31mThe Kernel crashed while executing code in the current cell or a previous cell. \n",
      "\u001b[1;31mPlease review the code in the cell(s) to identify a possible cause of the failure. \n",
      "\u001b[1;31mClick <a href='https://aka.ms/vscodeJupyterKernelCrash'>here</a> for more info. \n",
      "\u001b[1;31mView Jupyter <a href='command:jupyter.viewOutput'>log</a> for further details."
     ]
    }
   ],
   "source": [
    "train(model, optimizer, loss, train_loader,\n",
    "          val_loader, parameters['log_dir'], device, parameters['epochs'],\n",
    "          parameters['log_interval'],\n",
    "          parameters['load_weight_path'], parameters['save_graph'])"
   ]
  },
  {
   "cell_type": "markdown",
   "metadata": {},
   "source": [
    "Test routine"
   ]
  },
  {
   "cell_type": "code",
   "execution_count": 7,
   "metadata": {},
   "outputs": [
    {
     "name": "stderr",
     "output_type": "stream",
     "text": [
      "ERROR:tornado.general:SEND Error: Host unreachable\n"
     ]
    },
    {
     "ename": "KeyboardInterrupt",
     "evalue": "",
     "output_type": "error",
     "traceback": [
      "\u001b[0;31m---------------------------------------------------------------------------\u001b[0m",
      "\u001b[0;31mKeyboardInterrupt\u001b[0m                         Traceback (most recent call last)",
      "Cell \u001b[0;32mIn[7], line 5\u001b[0m\n\u001b[1;32m      3\u001b[0m \u001b[38;5;66;03m## First try on single batch ##\u001b[39;00m\n\u001b[1;32m      4\u001b[0m dataiter \u001b[38;5;241m=\u001b[39m \u001b[38;5;28miter\u001b[39m(test_loader)\n\u001b[0;32m----> 5\u001b[0m images, labels \u001b[38;5;241m=\u001b[39m \u001b[38;5;28;43mnext\u001b[39;49m\u001b[43m(\u001b[49m\u001b[43mdataiter\u001b[49m\u001b[43m)\u001b[49m\n\u001b[1;32m      6\u001b[0m \u001b[38;5;66;03m# print images\u001b[39;00m\n\u001b[1;32m      7\u001b[0m imshow(torchvision\u001b[38;5;241m.\u001b[39mutils\u001b[38;5;241m.\u001b[39mmake_grid(images))\n",
      "File \u001b[0;32m~/code/cabify/cabify_venv/lib/python3.10/site-packages/torch/utils/data/dataloader.py:701\u001b[0m, in \u001b[0;36m_BaseDataLoaderIter.__next__\u001b[0;34m(self)\u001b[0m\n\u001b[1;32m    698\u001b[0m \u001b[38;5;28;01mif\u001b[39;00m \u001b[38;5;28mself\u001b[39m\u001b[38;5;241m.\u001b[39m_sampler_iter \u001b[38;5;129;01mis\u001b[39;00m \u001b[38;5;28;01mNone\u001b[39;00m:\n\u001b[1;32m    699\u001b[0m     \u001b[38;5;66;03m# TODO(https://github.com/pytorch/pytorch/issues/76750)\u001b[39;00m\n\u001b[1;32m    700\u001b[0m     \u001b[38;5;28mself\u001b[39m\u001b[38;5;241m.\u001b[39m_reset()  \u001b[38;5;66;03m# type: ignore[call-arg]\u001b[39;00m\n\u001b[0;32m--> 701\u001b[0m data \u001b[38;5;241m=\u001b[39m \u001b[38;5;28;43mself\u001b[39;49m\u001b[38;5;241;43m.\u001b[39;49m\u001b[43m_next_data\u001b[49m\u001b[43m(\u001b[49m\u001b[43m)\u001b[49m\n\u001b[1;32m    702\u001b[0m \u001b[38;5;28mself\u001b[39m\u001b[38;5;241m.\u001b[39m_num_yielded \u001b[38;5;241m+\u001b[39m\u001b[38;5;241m=\u001b[39m \u001b[38;5;241m1\u001b[39m\n\u001b[1;32m    703\u001b[0m \u001b[38;5;28;01mif\u001b[39;00m (\n\u001b[1;32m    704\u001b[0m     \u001b[38;5;28mself\u001b[39m\u001b[38;5;241m.\u001b[39m_dataset_kind \u001b[38;5;241m==\u001b[39m _DatasetKind\u001b[38;5;241m.\u001b[39mIterable\n\u001b[1;32m    705\u001b[0m     \u001b[38;5;129;01mand\u001b[39;00m \u001b[38;5;28mself\u001b[39m\u001b[38;5;241m.\u001b[39m_IterableDataset_len_called \u001b[38;5;129;01mis\u001b[39;00m \u001b[38;5;129;01mnot\u001b[39;00m \u001b[38;5;28;01mNone\u001b[39;00m\n\u001b[1;32m    706\u001b[0m     \u001b[38;5;129;01mand\u001b[39;00m \u001b[38;5;28mself\u001b[39m\u001b[38;5;241m.\u001b[39m_num_yielded \u001b[38;5;241m>\u001b[39m \u001b[38;5;28mself\u001b[39m\u001b[38;5;241m.\u001b[39m_IterableDataset_len_called\n\u001b[1;32m    707\u001b[0m ):\n",
      "File \u001b[0;32m~/code/cabify/cabify_venv/lib/python3.10/site-packages/torch/utils/data/dataloader.py:1448\u001b[0m, in \u001b[0;36m_MultiProcessingDataLoaderIter._next_data\u001b[0;34m(self)\u001b[0m\n\u001b[1;32m   1445\u001b[0m     \u001b[38;5;28;01mreturn\u001b[39;00m \u001b[38;5;28mself\u001b[39m\u001b[38;5;241m.\u001b[39m_process_data(data)\n\u001b[1;32m   1447\u001b[0m \u001b[38;5;28;01massert\u001b[39;00m \u001b[38;5;129;01mnot\u001b[39;00m \u001b[38;5;28mself\u001b[39m\u001b[38;5;241m.\u001b[39m_shutdown \u001b[38;5;129;01mand\u001b[39;00m \u001b[38;5;28mself\u001b[39m\u001b[38;5;241m.\u001b[39m_tasks_outstanding \u001b[38;5;241m>\u001b[39m \u001b[38;5;241m0\u001b[39m\n\u001b[0;32m-> 1448\u001b[0m idx, data \u001b[38;5;241m=\u001b[39m \u001b[38;5;28;43mself\u001b[39;49m\u001b[38;5;241;43m.\u001b[39;49m\u001b[43m_get_data\u001b[49m\u001b[43m(\u001b[49m\u001b[43m)\u001b[49m\n\u001b[1;32m   1449\u001b[0m \u001b[38;5;28mself\u001b[39m\u001b[38;5;241m.\u001b[39m_tasks_outstanding \u001b[38;5;241m-\u001b[39m\u001b[38;5;241m=\u001b[39m \u001b[38;5;241m1\u001b[39m\n\u001b[1;32m   1450\u001b[0m \u001b[38;5;28;01mif\u001b[39;00m \u001b[38;5;28mself\u001b[39m\u001b[38;5;241m.\u001b[39m_dataset_kind \u001b[38;5;241m==\u001b[39m _DatasetKind\u001b[38;5;241m.\u001b[39mIterable:\n\u001b[1;32m   1451\u001b[0m     \u001b[38;5;66;03m# Check for _IterableDatasetStopIteration\u001b[39;00m\n",
      "File \u001b[0;32m~/code/cabify/cabify_venv/lib/python3.10/site-packages/torch/utils/data/dataloader.py:1412\u001b[0m, in \u001b[0;36m_MultiProcessingDataLoaderIter._get_data\u001b[0;34m(self)\u001b[0m\n\u001b[1;32m   1408\u001b[0m     \u001b[38;5;66;03m# In this case, `self._data_queue` is a `queue.Queue`,. But we don't\u001b[39;00m\n\u001b[1;32m   1409\u001b[0m     \u001b[38;5;66;03m# need to call `.task_done()` because we don't use `.join()`.\u001b[39;00m\n\u001b[1;32m   1410\u001b[0m \u001b[38;5;28;01melse\u001b[39;00m:\n\u001b[1;32m   1411\u001b[0m     \u001b[38;5;28;01mwhile\u001b[39;00m \u001b[38;5;28;01mTrue\u001b[39;00m:\n\u001b[0;32m-> 1412\u001b[0m         success, data \u001b[38;5;241m=\u001b[39m \u001b[38;5;28;43mself\u001b[39;49m\u001b[38;5;241;43m.\u001b[39;49m\u001b[43m_try_get_data\u001b[49m\u001b[43m(\u001b[49m\u001b[43m)\u001b[49m\n\u001b[1;32m   1413\u001b[0m         \u001b[38;5;28;01mif\u001b[39;00m success:\n\u001b[1;32m   1414\u001b[0m             \u001b[38;5;28;01mreturn\u001b[39;00m data\n",
      "File \u001b[0;32m~/code/cabify/cabify_venv/lib/python3.10/site-packages/torch/utils/data/dataloader.py:1243\u001b[0m, in \u001b[0;36m_MultiProcessingDataLoaderIter._try_get_data\u001b[0;34m(self, timeout)\u001b[0m\n\u001b[1;32m   1230\u001b[0m \u001b[38;5;28;01mdef\u001b[39;00m \u001b[38;5;21m_try_get_data\u001b[39m(\u001b[38;5;28mself\u001b[39m, timeout\u001b[38;5;241m=\u001b[39m_utils\u001b[38;5;241m.\u001b[39mMP_STATUS_CHECK_INTERVAL):\n\u001b[1;32m   1231\u001b[0m     \u001b[38;5;66;03m# Tries to fetch data from `self._data_queue` once for a given timeout.\u001b[39;00m\n\u001b[1;32m   1232\u001b[0m     \u001b[38;5;66;03m# This can also be used as inner loop of fetching without timeout, with\u001b[39;00m\n\u001b[0;32m   (...)\u001b[0m\n\u001b[1;32m   1240\u001b[0m     \u001b[38;5;66;03m# Returns a 2-tuple:\u001b[39;00m\n\u001b[1;32m   1241\u001b[0m     \u001b[38;5;66;03m#   (bool: whether successfully get data, any: data if successful else None)\u001b[39;00m\n\u001b[1;32m   1242\u001b[0m     \u001b[38;5;28;01mtry\u001b[39;00m:\n\u001b[0;32m-> 1243\u001b[0m         data \u001b[38;5;241m=\u001b[39m \u001b[38;5;28;43mself\u001b[39;49m\u001b[38;5;241;43m.\u001b[39;49m\u001b[43m_data_queue\u001b[49m\u001b[38;5;241;43m.\u001b[39;49m\u001b[43mget\u001b[49m\u001b[43m(\u001b[49m\u001b[43mtimeout\u001b[49m\u001b[38;5;241;43m=\u001b[39;49m\u001b[43mtimeout\u001b[49m\u001b[43m)\u001b[49m\n\u001b[1;32m   1244\u001b[0m         \u001b[38;5;28;01mreturn\u001b[39;00m (\u001b[38;5;28;01mTrue\u001b[39;00m, data)\n\u001b[1;32m   1245\u001b[0m     \u001b[38;5;28;01mexcept\u001b[39;00m \u001b[38;5;167;01mException\u001b[39;00m \u001b[38;5;28;01mas\u001b[39;00m e:\n\u001b[1;32m   1246\u001b[0m         \u001b[38;5;66;03m# At timeout and error, we manually check whether any worker has\u001b[39;00m\n\u001b[1;32m   1247\u001b[0m         \u001b[38;5;66;03m# failed. Note that this is the only mechanism for Windows to detect\u001b[39;00m\n\u001b[1;32m   1248\u001b[0m         \u001b[38;5;66;03m# worker failures.\u001b[39;00m\n",
      "File \u001b[0;32m/usr/lib/python3.10/multiprocessing/queues.py:113\u001b[0m, in \u001b[0;36mQueue.get\u001b[0;34m(self, block, timeout)\u001b[0m\n\u001b[1;32m    111\u001b[0m \u001b[38;5;28;01mif\u001b[39;00m block:\n\u001b[1;32m    112\u001b[0m     timeout \u001b[38;5;241m=\u001b[39m deadline \u001b[38;5;241m-\u001b[39m time\u001b[38;5;241m.\u001b[39mmonotonic()\n\u001b[0;32m--> 113\u001b[0m     \u001b[38;5;28;01mif\u001b[39;00m \u001b[38;5;129;01mnot\u001b[39;00m \u001b[38;5;28;43mself\u001b[39;49m\u001b[38;5;241;43m.\u001b[39;49m\u001b[43m_poll\u001b[49m\u001b[43m(\u001b[49m\u001b[43mtimeout\u001b[49m\u001b[43m)\u001b[49m:\n\u001b[1;32m    114\u001b[0m         \u001b[38;5;28;01mraise\u001b[39;00m Empty\n\u001b[1;32m    115\u001b[0m \u001b[38;5;28;01melif\u001b[39;00m \u001b[38;5;129;01mnot\u001b[39;00m \u001b[38;5;28mself\u001b[39m\u001b[38;5;241m.\u001b[39m_poll():\n",
      "File \u001b[0;32m/usr/lib/python3.10/multiprocessing/connection.py:257\u001b[0m, in \u001b[0;36m_ConnectionBase.poll\u001b[0;34m(self, timeout)\u001b[0m\n\u001b[1;32m    255\u001b[0m \u001b[38;5;28mself\u001b[39m\u001b[38;5;241m.\u001b[39m_check_closed()\n\u001b[1;32m    256\u001b[0m \u001b[38;5;28mself\u001b[39m\u001b[38;5;241m.\u001b[39m_check_readable()\n\u001b[0;32m--> 257\u001b[0m \u001b[38;5;28;01mreturn\u001b[39;00m \u001b[38;5;28;43mself\u001b[39;49m\u001b[38;5;241;43m.\u001b[39;49m\u001b[43m_poll\u001b[49m\u001b[43m(\u001b[49m\u001b[43mtimeout\u001b[49m\u001b[43m)\u001b[49m\n",
      "File \u001b[0;32m/usr/lib/python3.10/multiprocessing/connection.py:424\u001b[0m, in \u001b[0;36mConnection._poll\u001b[0;34m(self, timeout)\u001b[0m\n\u001b[1;32m    423\u001b[0m \u001b[38;5;28;01mdef\u001b[39;00m \u001b[38;5;21m_poll\u001b[39m(\u001b[38;5;28mself\u001b[39m, timeout):\n\u001b[0;32m--> 424\u001b[0m     r \u001b[38;5;241m=\u001b[39m \u001b[43mwait\u001b[49m\u001b[43m(\u001b[49m\u001b[43m[\u001b[49m\u001b[38;5;28;43mself\u001b[39;49m\u001b[43m]\u001b[49m\u001b[43m,\u001b[49m\u001b[43m \u001b[49m\u001b[43mtimeout\u001b[49m\u001b[43m)\u001b[49m\n\u001b[1;32m    425\u001b[0m     \u001b[38;5;28;01mreturn\u001b[39;00m \u001b[38;5;28mbool\u001b[39m(r)\n",
      "File \u001b[0;32m/usr/lib/python3.10/multiprocessing/connection.py:931\u001b[0m, in \u001b[0;36mwait\u001b[0;34m(object_list, timeout)\u001b[0m\n\u001b[1;32m    928\u001b[0m     deadline \u001b[38;5;241m=\u001b[39m time\u001b[38;5;241m.\u001b[39mmonotonic() \u001b[38;5;241m+\u001b[39m timeout\n\u001b[1;32m    930\u001b[0m \u001b[38;5;28;01mwhile\u001b[39;00m \u001b[38;5;28;01mTrue\u001b[39;00m:\n\u001b[0;32m--> 931\u001b[0m     ready \u001b[38;5;241m=\u001b[39m \u001b[43mselector\u001b[49m\u001b[38;5;241;43m.\u001b[39;49m\u001b[43mselect\u001b[49m\u001b[43m(\u001b[49m\u001b[43mtimeout\u001b[49m\u001b[43m)\u001b[49m\n\u001b[1;32m    932\u001b[0m     \u001b[38;5;28;01mif\u001b[39;00m ready:\n\u001b[1;32m    933\u001b[0m         \u001b[38;5;28;01mreturn\u001b[39;00m [key\u001b[38;5;241m.\u001b[39mfileobj \u001b[38;5;28;01mfor\u001b[39;00m (key, events) \u001b[38;5;129;01min\u001b[39;00m ready]\n",
      "File \u001b[0;32m/usr/lib/python3.10/selectors.py:416\u001b[0m, in \u001b[0;36m_PollLikeSelector.select\u001b[0;34m(self, timeout)\u001b[0m\n\u001b[1;32m    414\u001b[0m ready \u001b[38;5;241m=\u001b[39m []\n\u001b[1;32m    415\u001b[0m \u001b[38;5;28;01mtry\u001b[39;00m:\n\u001b[0;32m--> 416\u001b[0m     fd_event_list \u001b[38;5;241m=\u001b[39m \u001b[38;5;28;43mself\u001b[39;49m\u001b[38;5;241;43m.\u001b[39;49m\u001b[43m_selector\u001b[49m\u001b[38;5;241;43m.\u001b[39;49m\u001b[43mpoll\u001b[49m\u001b[43m(\u001b[49m\u001b[43mtimeout\u001b[49m\u001b[43m)\u001b[49m\n\u001b[1;32m    417\u001b[0m \u001b[38;5;28;01mexcept\u001b[39;00m \u001b[38;5;167;01mInterruptedError\u001b[39;00m:\n\u001b[1;32m    418\u001b[0m     \u001b[38;5;28;01mreturn\u001b[39;00m ready\n",
      "\u001b[0;31mKeyboardInterrupt\u001b[0m: "
     ]
    }
   ],
   "source": [
    "PATH=\"tensorboard/logs_31122024_13-12/models/best_model_3_loss=-0.0815.pt\"\n",
    "\n",
    "## First try on single batch ##\n",
    "dataiter = iter(test_loader)\n",
    "images, labels = next(dataiter)\n",
    "# print images\n",
    "imshow(torchvision.utils.make_grid(images))\n",
    "print('GroundTruth: ', ' '.join(f'{classes[labels[j]]:5s}' for j in range(4)))\n",
    "\n",
    "net = SimpleCNNconvNet224()\n",
    "net.load_state_dict(torch.load(PATH, weights_only=True, map_location=torch.device('cpu')))\n",
    "outputs = net(images)\n",
    "_, predicted = torch.max(outputs, 1)\n",
    "\n",
    "print('Predicted: ', ' '.join(f'{classes[predicted[j]]:5s}'\n",
    "                              for j in range(4)))  # Range 4 is corresponding to the batch size\n",
    "\n",
    "## On the hole test set##\n",
    "correct = 0\n",
    "total = 0\n",
    "# since we're not training, we don't need to calculate the gradients for our outputs\n",
    "with torch.no_grad():\n",
    "    for data in test_loader:\n",
    "        images, labels = data\n",
    "        # calculate outputs by running images through the network\n",
    "        outputs = net(images)\n",
    "        # the class with the highest energy is what we choose as prediction\n",
    "        _, predicted = torch.max(outputs, 1)\n",
    "        total += labels.size(0)\n",
    "        correct += (predicted == labels).sum().item()\n",
    "\n",
    "print(f'Accuracy of the network on the test set: {100 * correct // total} %')"
   ]
  },
  {
   "cell_type": "code",
   "execution_count": 24,
   "metadata": {
    "colab": {
     "base_uri": "https://localhost:8080/"
    },
    "executionInfo": {
     "elapsed": 2671,
     "status": "ok",
     "timestamp": 1735652721881,
     "user": {
      "displayName": "lorenzo giraldi",
      "userId": "10228983639254068753"
     },
     "user_tz": -60
    },
    "id": "a7_EqdIcyEY6",
    "outputId": "1b458520-8706-4f58-bf73-0516cebf3fd7"
   },
   "outputs": [
    {
     "name": "stdout",
     "output_type": "stream",
     "text": [
      "fatal: pathspec 'challenge.ipynb' did not match any files\n",
      "On branch master\n",
      "Your branch is up to date with 'origin/master'.\n",
      "\n",
      "Changes not staged for commit:\n",
      "  (use \"git add <file>...\" to update what will be committed)\n",
      "  (use \"git restore <file>...\" to discard changes in working directory)\n",
      "\t\u001b[31mmodified:   Challenge.ipynb\u001b[m\n",
      "\n",
      "Untracked files:\n",
      "  (use \"git add <file>...\" to include in what will be committed)\n",
      "\t\u001b[31mtensorboard/\u001b[m\n",
      "\n",
      "no changes added to commit (use \"git add\" and/or \"git commit -a\")\n",
      "Everything up-to-date\n"
     ]
    }
   ],
   "source": [
    "!git config --global user.email \"giraldilorenzo63@gmail.com\"\n",
    "!git config --global user.name \"lorenzoooooo\"\n",
    "\n",
    "!git add Challenge.ipynb\n",
    "!git commit -m \"Use of cross entropy loss and consequent update of process_function and evaluation_function\"\n",
    "!git push"
   ]
  }
 ],
 "metadata": {
  "accelerator": "GPU",
  "colab": {
   "gpuType": "T4",
   "provenance": []
  },
  "kernelspec": {
   "display_name": "cabify_venv",
   "language": "python",
   "name": "python3"
  },
  "language_info": {
   "codemirror_mode": {
    "name": "ipython",
    "version": 3
   },
   "file_extension": ".py",
   "mimetype": "text/x-python",
   "name": "python",
   "nbconvert_exporter": "python",
   "pygments_lexer": "ipython3",
   "version": "3.10.12"
  },
  "orig_nbformat": 4
 },
 "nbformat": 4,
 "nbformat_minor": 0
}
